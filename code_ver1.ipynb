{
 "cells": [
  {
   "cell_type": "code",
   "execution_count": 1,
   "id": "13500ec8",
   "metadata": {},
   "outputs": [
    {
     "name": "stdout",
     "output_type": "stream",
     "text": [
      "Defaulting to user installation because normal site-packages is not writeable\n",
      "Requirement already satisfied: imbalanced-learn in ./.local/lib/python3.10/site-packages (0.12.3)\n",
      "Requirement already satisfied: scikit-learn>=1.0.2 in ./.local/lib/python3.10/site-packages (from imbalanced-learn) (1.2.2)\n",
      "Requirement already satisfied: threadpoolctl>=2.0.0 in ./.local/lib/python3.10/site-packages (from imbalanced-learn) (3.5.0)\n",
      "Requirement already satisfied: numpy>=1.17.3 in ./.local/lib/python3.10/site-packages (from imbalanced-learn) (1.23.5)\n",
      "Requirement already satisfied: scipy>=1.5.0 in ./.local/lib/python3.10/site-packages (from imbalanced-learn) (1.14.0)\n",
      "Requirement already satisfied: joblib>=1.1.1 in ./.local/lib/python3.10/site-packages (from imbalanced-learn) (1.4.2)\n",
      "\n",
      "\u001b[1m[\u001b[0m\u001b[34;49mnotice\u001b[0m\u001b[1;39;49m]\u001b[0m\u001b[39;49m A new release of pip is available: \u001b[0m\u001b[31;49m23.0.1\u001b[0m\u001b[39;49m -> \u001b[0m\u001b[32;49m24.2\u001b[0m\n",
      "\u001b[1m[\u001b[0m\u001b[34;49mnotice\u001b[0m\u001b[1;39;49m]\u001b[0m\u001b[39;49m To update, run: \u001b[0m\u001b[32;49mpip install --upgrade pip\u001b[0m\n"
     ]
    }
   ],
   "source": [
    "!pip install imbalanced-learn"
   ]
  },
  {
   "cell_type": "code",
   "execution_count": 4,
   "id": "8cbc4e0c",
   "metadata": {},
   "outputs": [
    {
     "name": "stdout",
     "output_type": "stream",
     "text": [
      "Validation Accuracy: 0.9129\n",
      "Validation F1 Score: 0.1885\n",
      "Validation Precision: 0.2050\n",
      "Validation Recall: 0.1745\n",
      "\n",
      "Confusion Matrix:\n",
      "[[  41  194]\n",
      " [ 159 3657]]\n",
      "\n",
      "Classification Report:\n",
      "              precision    recall  f1-score   support\n",
      "\n",
      "    AbNormal       0.20      0.17      0.19       235\n",
      "      Normal       0.95      0.96      0.95      3816\n",
      "\n",
      "    accuracy                           0.91      4051\n",
      "   macro avg       0.58      0.57      0.57      4051\n",
      "weighted avg       0.91      0.91      0.91      4051\n",
      "\n"
     ]
    }
   ],
   "source": [
    "import os\n",
    "import pandas as pd\n",
    "import numpy as np\n",
    "from sklearn.ensemble import RandomForestClassifier\n",
    "from sklearn.metrics import accuracy_score, f1_score, precision_score, recall_score, classification_report, confusion_matrix\n",
    "from sklearn.model_selection import train_test_split\n",
    "from sklearn.decomposition import TruncatedSVD\n",
    "from sklearn.preprocessing import StandardScaler\n",
    "from imblearn.over_sampling import SMOTE\n",
    "from sklearn.pipeline import Pipeline\n",
    "from sklearn.compose import ColumnTransformer\n",
    "from sklearn.impute import SimpleImputer\n",
    "from sklearn.preprocessing import OneHotEncoder\n",
    "\n",
    "# Load the data\n",
    "file_path = \"./data/train.csv\"\n",
    "data = pd.read_csv(file_path)\n",
    "\n",
    "# Separate features and target\n",
    "train_data = data.drop(columns=[\"target\"])\n",
    "train_label = data[\"target\"]\n",
    "\n",
    "# Remove columns with missing values and columns with only one unique value\n",
    "train_data = train_data.dropna(axis=1)\n",
    "train_data = train_data.loc[:, train_data.nunique() > 1]\n",
    "\n",
    "# Identify categorical and numerical columns\n",
    "categorical_cols = train_data.select_dtypes(include=['object']).columns\n",
    "numerical_cols = train_data.select_dtypes(include=['int64', 'float64']).columns\n",
    "\n",
    "# Preprocessing pipeline\n",
    "preprocessor = ColumnTransformer(\n",
    "    transformers=[\n",
    "        ('num', StandardScaler(), numerical_cols),\n",
    "        ('cat', Pipeline(steps=[('imputer', SimpleImputer(strategy='constant', fill_value='missing')),\n",
    "                                ('onehot', OneHotEncoder(handle_unknown='ignore', sparse_output=True))]), categorical_cols)\n",
    "    ])\n",
    "\n",
    "# Apply preprocessing\n",
    "train_data_preprocessed = preprocessor.fit_transform(train_data)\n",
    "\n",
    "# Split the data into training and validation sets\n",
    "df_train, df_val, train_y, val_y = train_test_split(\n",
    "    train_data_preprocessed, train_label, test_size=0.1, stratify=train_label, random_state=110\n",
    ")\n",
    "\n",
    "# Apply TruncatedSVD to keep 99% variance\n",
    "svd = TruncatedSVD(n_components=200, random_state=110)  # Use n_components as a starting point\n",
    "df_train_svd = svd.fit_transform(df_train)\n",
    "df_val_svd = svd.transform(df_val)\n",
    "\n",
    "# Balance the dataset using SMOTE\n",
    "smote = SMOTE(random_state=110)\n",
    "df_train_resampled, train_y_resampled = smote.fit_resample(df_train_svd, train_y)\n",
    "\n",
    "# Initialize and train the model\n",
    "model = RandomForestClassifier(n_estimators=200, random_state=110, class_weight='balanced')\n",
    "model.fit(df_train_resampled, train_y_resampled)\n",
    "\n",
    "# Validate the model\n",
    "val_pred = model.predict(df_val_svd)\n",
    "\n",
    "# Evaluate the model\n",
    "accuracy = accuracy_score(val_y, val_pred)\n",
    "f1 = f1_score(val_y, val_pred, pos_label='AbNormal')\n",
    "precision = precision_score(val_y, val_pred, pos_label='AbNormal')\n",
    "recall = recall_score(val_y, val_pred, pos_label='AbNormal')\n",
    "\n",
    "# Output results\n",
    "print(f\"Validation Accuracy: {accuracy:.4f}\")\n",
    "print(f\"Validation F1 Score: {f1:.4f}\")\n",
    "print(f\"Validation Precision: {precision:.4f}\")\n",
    "print(f\"Validation Recall: {recall:.4f}\")\n",
    "\n",
    "print(\"\\nConfusion Matrix:\")\n",
    "print(confusion_matrix(val_y, val_pred))\n",
    "\n",
    "print(\"\\nClassification Report:\")\n",
    "print(classification_report(val_y, val_pred))\n",
    "\n",
    "\n"
   ]
  },
  {
   "cell_type": "code",
   "execution_count": 5,
   "id": "6da10e62",
   "metadata": {},
   "outputs": [
    {
     "data": {
      "text/plain": [
       "array(['Normal', 'Normal', 'Normal', ..., 'Normal', 'AbNormal', 'Normal'],\n",
       "      dtype=object)"
      ]
     },
     "execution_count": 5,
     "metadata": {},
     "output_type": "execute_result"
    }
   ],
   "source": [
    "file_path = \"./data/test.csv\"\n",
    "test_data = pd.read_csv(file_path)\n",
    "\n",
    "# Preprocess the test data similarly to the training data\n",
    "test_data_preprocessed = preprocessor.transform(test_data.drop(columns=['target','Set ID']))\n",
    "\n",
    "# Apply TruncatedSVD (or PCA if needed) to the test data\n",
    "test_data_svd = svd.transform(test_data_preprocessed)\n",
    "\n",
    "# Predict the target for the test data\n",
    "test_predictions = model.predict(test_data_svd)\n",
    "test_predictions"
   ]
  },
  {
   "cell_type": "code",
   "execution_count": 6,
   "id": "7e87b177",
   "metadata": {},
   "outputs": [],
   "source": [
    "# Update the submission dataframe with the predictions\n",
    "submission_data = pd.read_csv(\"./submission.csv\")\n",
    "submission_data['target'] = test_predictions\n",
    "\n",
    "# Save the updated submission file\n",
    "submission_data.to_csv(\"./submission.csv\", index=False)"
   ]
  }
 ],
 "metadata": {
  "kernelspec": {
   "display_name": "Python 3 (ipykernel)",
   "language": "python",
   "name": "python3"
  },
  "language_info": {
   "codemirror_mode": {
    "name": "ipython",
    "version": 3
   },
   "file_extension": ".py",
   "mimetype": "text/x-python",
   "name": "python",
   "nbconvert_exporter": "python",
   "pygments_lexer": "ipython3",
   "version": "3.10.13"
  }
 },
 "nbformat": 4,
 "nbformat_minor": 5
}
